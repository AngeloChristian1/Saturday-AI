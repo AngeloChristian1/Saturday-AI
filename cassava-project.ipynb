{
 "cells": [
  {
   "cell_type": "code",
   "execution_count": null,
   "id": "lwjRAiowqesX",
   "metadata": {
    "id": "lwjRAiowqesX"
   },
   "outputs": [],
   "source": [
    "# !pip install numpy pandas scikit-learn tensorflow matplotlib seaborn\n"
   ]
  },
  {
   "cell_type": "markdown",
   "id": "pGbF6lIrxXdP",
   "metadata": {
    "id": "pGbF6lIrxXdP"
   },
   "source": [
    "# Unveiling Cassava Secrets"
   ]
  },
  {
   "cell_type": "markdown",
   "id": "qz3Q5kbCxSUb",
   "metadata": {
    "id": "qz3Q5kbCxSUb"
   },
   "source": [
    "This project focuses on leveraging the natural resistance of cassava to drought by studying its DNA and identifying specific sequences called enhancers that play a role in gene regulation. Participants will use a dataset containing 10,000-base pair DNA sequences from the cassava genome, along with associated information such as the chromosome and a target label indicating whether a specific region overlaps with an enhancer. The goal is to build predictive models for enhancer regulatory activity in the cassava genome. The project relies on a combination of genomics, natural language processing, and machine learning techniques, making use of pre-trained NLP models specifically designed to analyze DNA sequences. The competition's evaluation metric is accuracy, and participants are provided with mean-pooled embeddings of a specialized NLP model for their analysis."
   ]
  },
  {
   "cell_type": "markdown",
   "id": "WEcaSbjtgWXz",
   "metadata": {
    "id": "WEcaSbjtgWXz"
   },
   "source": [
    "## 1. Setting Up environment"
   ]
  },
  {
   "cell_type": "code",
   "execution_count": 38,
   "id": "b744e507-9140-4179-8432-17ebbd5f5b14",
   "metadata": {
    "id": "b744e507-9140-4179-8432-17ebbd5f5b14"
   },
   "outputs": [],
   "source": [
    "import numpy as np\n",
    "import matplotlib.pyplot as plt\n",
    "import pandas as pd\n",
    "import seaborn as sns\n",
    "import statsmodels.api as sm"
   ]
  },
  {
   "cell_type": "code",
   "execution_count": 3,
   "id": "uTjerWEFQiMb",
   "metadata": {
    "colab": {
     "base_uri": "https://localhost:8080/"
    },
    "id": "uTjerWEFQiMb",
    "outputId": "f642a7c0-f20c-498a-e2e8-06b1494b37fb"
   },
   "outputs": [],
   "source": [
    "# from google.colab import drive\n",
    "# drive.mount('/content/drive')"
   ]
  },
  {
   "cell_type": "markdown",
   "id": "ZVysF__Hggkh",
   "metadata": {
    "id": "ZVysF__Hggkh"
   },
   "source": [
    "## 2. Loading and Exploring Data"
   ]
  },
  {
   "cell_type": "code",
   "execution_count": 39,
   "id": "ClWzIp01RSuw",
   "metadata": {
    "colab": {
     "base_uri": "https://localhost:8080/"
    },
    "id": "ClWzIp01RSuw",
    "outputId": "58c27b64-dc27-4542-a061-72b51fbeba5c"
   },
   "outputs": [
    {
     "name": "stdout",
     "output_type": "stream",
     "text": [
      "[[ 0.34610248 -0.04882112  0.04641166 ... -0.12821618  0.13048221\n",
      "  -0.04030944]\n",
      " [ 0.2685889  -0.11472121 -0.00299174 ... -0.10230525  0.11031647\n",
      "  -0.11093187]\n",
      " [ 0.254905   -0.08910991  0.12141802 ... -0.0814518   0.10907719\n",
      "  -0.02265033]\n",
      " ...\n",
      " [ 0.33422753 -0.01488861  0.12528968 ... -0.10773876  0.12452018\n",
      "  -0.06895437]\n",
      " [ 0.34840348 -0.16457166  0.01115987 ... -0.05926268  0.12739813\n",
      "   0.01560411]\n",
      " [ 0.25588453 -0.08713227  0.09167866 ... -0.1202043   0.1287952\n",
      "  -0.01449904]]\n"
     ]
    }
   ],
   "source": [
    "train = pd.read_csv(\"Train (4).csv\")\n",
    "test_data = pd.read_csv(\"Test (3).csv\")\n",
    "ss = pd.read_csv(\"SampleSubmission (4).csv\")\n",
    "variables = pd.read_csv(\"VariableDefinitions.csv\")\n",
    "test_embeddings = np.load(\"Test_embeddings.npy\")\n",
    "train_embeddings = np.load(\"Train_embeddings.npy\")\n",
    "train_data = pd.read_csv(\"Train (4).csv\")\n",
    "test = pd.read_csv(\"Test (3).csv\")\n",
    "\n",
    "print(train_embeddings)"
   ]
  },
  {
   "cell_type": "code",
   "execution_count": 40,
   "id": "n6gPuN_tVIrU",
   "metadata": {
    "colab": {
     "base_uri": "https://localhost:8080/"
    },
    "id": "n6gPuN_tVIrU",
    "outputId": "a46fabff-020c-480c-a7c2-1ca9c187ab94"
   },
   "outputs": [
    {
     "name": "stdout",
     "output_type": "stream",
     "text": [
      "train data shape : (13225, 5)\n",
      "test data shape : (5668, 4)\n"
     ]
    }
   ],
   "source": [
    "print('train data shape :', train.shape)\n",
    "print('test data shape :', test.shape)"
   ]
  },
  {
   "cell_type": "code",
   "execution_count": 6,
   "id": "9Z0DiCPMVJf2",
   "metadata": {
    "colab": {
     "base_uri": "https://localhost:8080/",
     "height": 556
    },
    "id": "9Z0DiCPMVJf2",
    "outputId": "d61b50dc-d507-425d-ee89-a9529288ccd3"
   },
   "outputs": [
    {
     "data": {
      "text/html": [
       "<div>\n",
       "<style scoped>\n",
       "    .dataframe tbody tr th:only-of-type {\n",
       "        vertical-align: middle;\n",
       "    }\n",
       "\n",
       "    .dataframe tbody tr th {\n",
       "        vertical-align: top;\n",
       "    }\n",
       "\n",
       "    .dataframe thead th {\n",
       "        text-align: right;\n",
       "    }\n",
       "</style>\n",
       "<table border=\"1\" class=\"dataframe\">\n",
       "  <thead>\n",
       "    <tr style=\"text-align: right;\">\n",
       "      <th></th>\n",
       "      <th>ID</th>\n",
       "      <th>Sequence</th>\n",
       "      <th>Chromosome</th>\n",
       "      <th>Region</th>\n",
       "      <th>Target</th>\n",
       "    </tr>\n",
       "  </thead>\n",
       "  <tbody>\n",
       "    <tr>\n",
       "      <th>0</th>\n",
       "      <td>ID_3uVXob</td>\n",
       "      <td>AAATCTTATTAATATATCTATATATAAATTTTTTAATATATTATAT...</td>\n",
       "      <td>Chromosome06</td>\n",
       "      <td>23466002-23467001</td>\n",
       "      <td>1</td>\n",
       "    </tr>\n",
       "    <tr>\n",
       "      <th>1</th>\n",
       "      <td>ID_ViisQV</td>\n",
       "      <td>GCGTCCTCTCACCAGCAGACAAGAATATAAAGATTGAACAACCAAA...</td>\n",
       "      <td>Chromosome16</td>\n",
       "      <td>27234572-27235571</td>\n",
       "      <td>0</td>\n",
       "    </tr>\n",
       "    <tr>\n",
       "      <th>2</th>\n",
       "      <td>ID_4HQWG5</td>\n",
       "      <td>TTCACCGAAAGCTTAGAGTAAGGAAAAAAAAAGGAACATTAAAATT...</td>\n",
       "      <td>Chromosome11</td>\n",
       "      <td>24316102-24317101</td>\n",
       "      <td>1</td>\n",
       "    </tr>\n",
       "    <tr>\n",
       "      <th>3</th>\n",
       "      <td>ID_E64KC4</td>\n",
       "      <td>AACCCTTATCAGAAAAGTCTTTATGGTATTCAACGGAGGCAAACAA...</td>\n",
       "      <td>Chromosome05</td>\n",
       "      <td>25321688-25322687</td>\n",
       "      <td>0</td>\n",
       "    </tr>\n",
       "    <tr>\n",
       "      <th>4</th>\n",
       "      <td>ID_3BPJGs</td>\n",
       "      <td>TTGTGAGGAATGAGATACACATACCCCTTTTAGATTATGAAATGTC...</td>\n",
       "      <td>Chromosome01</td>\n",
       "      <td>9570952-9571951</td>\n",
       "      <td>1</td>\n",
       "    </tr>\n",
       "    <tr>\n",
       "      <th>5</th>\n",
       "      <td>ID_3bZ5Up</td>\n",
       "      <td>TCCAACACGATTTTGGTTGGCGATTCATAATTGAATATACAGACTC...</td>\n",
       "      <td>Chromosome06</td>\n",
       "      <td>23942702-23943701</td>\n",
       "      <td>1</td>\n",
       "    </tr>\n",
       "    <tr>\n",
       "      <th>6</th>\n",
       "      <td>ID_39PvUU</td>\n",
       "      <td>TGGGGTGCCATAGGAGGTGAGTTTATTAAATTTTTGGATCCCATAT...</td>\n",
       "      <td>Chromosome08</td>\n",
       "      <td>22480390-22481389</td>\n",
       "      <td>0</td>\n",
       "    </tr>\n",
       "    <tr>\n",
       "      <th>7</th>\n",
       "      <td>ID_3hpRYG</td>\n",
       "      <td>TTAATGCAAGAAGATGGGACCTGGCTGTCAATAACATTTACCTACG...</td>\n",
       "      <td>Chromosome08</td>\n",
       "      <td>19484727-19485726</td>\n",
       "      <td>1</td>\n",
       "    </tr>\n",
       "    <tr>\n",
       "      <th>8</th>\n",
       "      <td>ID_47ZAbD</td>\n",
       "      <td>AGAGCGAAGAGAGGAATGAAAAGTATGCGATGATGGAACCTCTAGC...</td>\n",
       "      <td>Chromosome08</td>\n",
       "      <td>11656193-11657192</td>\n",
       "      <td>0</td>\n",
       "    </tr>\n",
       "    <tr>\n",
       "      <th>9</th>\n",
       "      <td>ID_4DCDST</td>\n",
       "      <td>CTCAGGGAAGTTCTCTATATTCTCTCTCTCATTTATTCGGTCTTTT...</td>\n",
       "      <td>Chromosome13</td>\n",
       "      <td>9651315-9652314</td>\n",
       "      <td>0</td>\n",
       "    </tr>\n",
       "  </tbody>\n",
       "</table>\n",
       "</div>"
      ],
      "text/plain": [
       "          ID                                           Sequence    Chromosome  \\\n",
       "0  ID_3uVXob  AAATCTTATTAATATATCTATATATAAATTTTTTAATATATTATAT...  Chromosome06   \n",
       "1  ID_ViisQV  GCGTCCTCTCACCAGCAGACAAGAATATAAAGATTGAACAACCAAA...  Chromosome16   \n",
       "2  ID_4HQWG5  TTCACCGAAAGCTTAGAGTAAGGAAAAAAAAAGGAACATTAAAATT...  Chromosome11   \n",
       "3  ID_E64KC4  AACCCTTATCAGAAAAGTCTTTATGGTATTCAACGGAGGCAAACAA...  Chromosome05   \n",
       "4  ID_3BPJGs  TTGTGAGGAATGAGATACACATACCCCTTTTAGATTATGAAATGTC...  Chromosome01   \n",
       "5  ID_3bZ5Up  TCCAACACGATTTTGGTTGGCGATTCATAATTGAATATACAGACTC...  Chromosome06   \n",
       "6  ID_39PvUU  TGGGGTGCCATAGGAGGTGAGTTTATTAAATTTTTGGATCCCATAT...  Chromosome08   \n",
       "7  ID_3hpRYG  TTAATGCAAGAAGATGGGACCTGGCTGTCAATAACATTTACCTACG...  Chromosome08   \n",
       "8  ID_47ZAbD  AGAGCGAAGAGAGGAATGAAAAGTATGCGATGATGGAACCTCTAGC...  Chromosome08   \n",
       "9  ID_4DCDST  CTCAGGGAAGTTCTCTATATTCTCTCTCTCATTTATTCGGTCTTTT...  Chromosome13   \n",
       "\n",
       "              Region  Target  \n",
       "0  23466002-23467001       1  \n",
       "1  27234572-27235571       0  \n",
       "2  24316102-24317101       1  \n",
       "3  25321688-25322687       0  \n",
       "4    9570952-9571951       1  \n",
       "5  23942702-23943701       1  \n",
       "6  22480390-22481389       0  \n",
       "7  19484727-19485726       1  \n",
       "8  11656193-11657192       0  \n",
       "9    9651315-9652314       0  "
      ]
     },
     "execution_count": 6,
     "metadata": {},
     "output_type": "execute_result"
    }
   ],
   "source": [
    "train.head(10)"
   ]
  },
  {
   "cell_type": "code",
   "execution_count": 7,
   "id": "ZtzqLcnIXq3P",
   "metadata": {
    "colab": {
     "base_uri": "https://localhost:8080/"
    },
    "id": "ZtzqLcnIXq3P",
    "outputId": "da5b5038-3cf2-4da6-a75b-def1821233c9"
   },
   "outputs": [
    {
     "name": "stdout",
     "output_type": "stream",
     "text": [
      "missing values: ID            0\n",
      "Sequence      0\n",
      "Chromosome    0\n",
      "Region        0\n",
      "Target        0\n",
      "dtype: int64\n"
     ]
    }
   ],
   "source": [
    "# Check for missing values\n",
    "print('missing values:', train.isnull().sum())"
   ]
  },
  {
   "cell_type": "code",
   "execution_count": 7,
   "id": "tVbj9XVAX2TL",
   "metadata": {
    "colab": {
     "base_uri": "https://localhost:8080/",
     "height": 523
    },
    "id": "tVbj9XVAX2TL",
    "outputId": "508e7881-e857-424f-e1d0-fb327b8cb47d"
   },
   "outputs": [
    {
     "data": {
      "text/plain": [
       "<seaborn.axisgrid.FacetGrid at 0x78b82c82d4e0>"
      ]
     },
     "execution_count": 7,
     "metadata": {},
     "output_type": "execute_result"
    },
    {
     "data": {
      "image/png": "[encoded data removed]",
      "text/plain": [
       "<Figure size 500x500 with 1 Axes>"
      ]
     },
     "metadata": {},
     "output_type": "display_data"
    }
   ],
   "source": [
    "# Explore Target distribution\n",
    "sns.catplot(x=\"Target\", kind=\"count\", data=train)"
   ]
  },
  {
   "cell_type": "code",
   "execution_count": null,
   "id": "P6fyG5Wb6Isf",
   "metadata": {
    "id": "P6fyG5Wb6Isf"
   },
   "outputs": [],
   "source": []
  },
  {
   "cell_type": "code",
   "execution_count": 8,
   "id": "_DRr3Dz0bIB9",
   "metadata": {
    "colab": {
     "base_uri": "https://localhost:8080/",
     "height": 206
    },
    "id": "_DRr3Dz0bIB9",
    "outputId": "3d413629-76fe-4b9d-fb60-c5644c887649"
   },
   "outputs": [
    {
     "data": {
      "text/html": [
       "<div>\n",
       "<style scoped>\n",
       "    .dataframe tbody tr th:only-of-type {\n",
       "        vertical-align: middle;\n",
       "    }\n",
       "\n",
       "    .dataframe tbody tr th {\n",
       "        vertical-align: top;\n",
       "    }\n",
       "\n",
       "    .dataframe thead th {\n",
       "        text-align: right;\n",
       "    }\n",
       "</style>\n",
       "<table border=\"1\" class=\"dataframe\">\n",
       "  <thead>\n",
       "    <tr style=\"text-align: right;\">\n",
       "      <th></th>\n",
       "      <th>ID</th>\n",
       "      <th>Target</th>\n",
       "    </tr>\n",
       "  </thead>\n",
       "  <tbody>\n",
       "    <tr>\n",
       "      <th>0</th>\n",
       "      <td>ID_4MdeKo</td>\n",
       "      <td>0</td>\n",
       "    </tr>\n",
       "    <tr>\n",
       "      <th>1</th>\n",
       "      <td>ID_3oArRM</td>\n",
       "      <td>0</td>\n",
       "    </tr>\n",
       "    <tr>\n",
       "      <th>2</th>\n",
       "      <td>ID_3ctixK</td>\n",
       "      <td>0</td>\n",
       "    </tr>\n",
       "    <tr>\n",
       "      <th>3</th>\n",
       "      <td>ID_A5ZcYv</td>\n",
       "      <td>0</td>\n",
       "    </tr>\n",
       "    <tr>\n",
       "      <th>4</th>\n",
       "      <td>ID_3Kpafn</td>\n",
       "      <td>0</td>\n",
       "    </tr>\n",
       "  </tbody>\n",
       "</table>\n",
       "</div>"
      ],
      "text/plain": [
       "          ID  Target\n",
       "0  ID_4MdeKo       0\n",
       "1  ID_3oArRM       0\n",
       "2  ID_3ctixK       0\n",
       "3  ID_A5ZcYv       0\n",
       "4  ID_3Kpafn       0"
      ]
     },
     "execution_count": 8,
     "metadata": {},
     "output_type": "execute_result"
    }
   ],
   "source": [
    "ss.head()"
   ]
  },
  {
   "cell_type": "markdown",
   "id": "N3FB9tUGbU2q",
   "metadata": {
    "id": "N3FB9tUGbU2q"
   },
   "source": [
    "### **Understanding The Test datasets**"
   ]
  },
  {
   "cell_type": "code",
   "execution_count": 9,
   "id": "vtQLgVmkbb7b",
   "metadata": {
    "colab": {
     "base_uri": "https://localhost:8080/",
     "height": 397
    },
    "id": "vtQLgVmkbb7b",
    "outputId": "507872eb-df19-4bd9-aa42-d5be229bba63"
   },
   "outputs": [
    {
     "name": "stdout",
     "output_type": "stream",
     "text": [
      "<class 'pandas.core.frame.DataFrame'>\n",
      "RangeIndex: 5668 entries, 0 to 5667\n",
      "Data columns (total 4 columns):\n",
      " #   Column      Non-Null Count  Dtype \n",
      "---  ------      --------------  ----- \n",
      " 0   ID          5668 non-null   object\n",
      " 1   Sequence    5668 non-null   object\n",
      " 2   Chromosome  5668 non-null   object\n",
      " 3   Region      5668 non-null   object\n",
      "dtypes: object(4)\n",
      "memory usage: 177.2+ KB\n"
     ]
    },
    {
     "data": {
      "text/html": [
       "<div>\n",
       "<style scoped>\n",
       "    .dataframe tbody tr th:only-of-type {\n",
       "        vertical-align: middle;\n",
       "    }\n",
       "\n",
       "    .dataframe tbody tr th {\n",
       "        vertical-align: top;\n",
       "    }\n",
       "\n",
       "    .dataframe thead th {\n",
       "        text-align: right;\n",
       "    }\n",
       "</style>\n",
       "<table border=\"1\" class=\"dataframe\">\n",
       "  <thead>\n",
       "    <tr style=\"text-align: right;\">\n",
       "      <th></th>\n",
       "      <th>VARIABLENAME</th>\n",
       "      <th>VARIABLE DESCRIPTION</th>\n",
       "    </tr>\n",
       "  </thead>\n",
       "  <tbody>\n",
       "    <tr>\n",
       "      <th>0</th>\n",
       "      <td>ID</td>\n",
       "      <td>Unique ID for each row.</td>\n",
       "    </tr>\n",
       "    <tr>\n",
       "      <th>1</th>\n",
       "      <td>Sequence</td>\n",
       "      <td>1000-base pair (bp) DNA sequence with letters ...</td>\n",
       "    </tr>\n",
       "    <tr>\n",
       "      <th>2</th>\n",
       "      <td>Chromosome</td>\n",
       "      <td>Distinct organizational units of the cassava g...</td>\n",
       "    </tr>\n",
       "    <tr>\n",
       "      <th>3</th>\n",
       "      <td>Region</td>\n",
       "      <td>The region of the considered Sequence</td>\n",
       "    </tr>\n",
       "    <tr>\n",
       "      <th>4</th>\n",
       "      <td>Target</td>\n",
       "      <td>This is what you are predicting: 1 if the midd...</td>\n",
       "    </tr>\n",
       "  </tbody>\n",
       "</table>\n",
       "</div>"
      ],
      "text/plain": [
       "  VARIABLENAME                               VARIABLE DESCRIPTION\n",
       "0           ID                            Unique ID for each row.\n",
       "1     Sequence  1000-base pair (bp) DNA sequence with letters ...\n",
       "2   Chromosome  Distinct organizational units of the cassava g...\n",
       "3       Region              The region of the considered Sequence\n",
       "4       Target  This is what you are predicting: 1 if the midd..."
      ]
     },
     "execution_count": 9,
     "metadata": {},
     "output_type": "execute_result"
    }
   ],
   "source": [
    "test.info()\n",
    "variables"
   ]
  },
  {
   "cell_type": "markdown",
   "id": "ahkgBxWyXrpW",
   "metadata": {
    "id": "ahkgBxWyXrpW"
   },
   "source": [
    "## 3. Preprocessing Data\n",
    "\n"
   ]
  },
  {
   "cell_type": "markdown",
   "id": "b33ZrWy5hxgc",
   "metadata": {
    "id": "b33ZrWy5hxgc"
   },
   "source": [
    "###  Checking for Base Pair frequencies for sequence"
   ]
  },
  {
   "cell_type": "code",
   "execution_count": 41,
   "id": "K-YUSVTmhZwK",
   "metadata": {
    "colab": {
     "base_uri": "https://localhost:8080/",
     "height": 468
    },
    "id": "K-YUSVTmhZwK",
    "outputId": "e0524204-5387-459a-dc17-db8f75495e01"
   },
   "outputs": [
    {
     "data": {
      "image/png": "[encoded data removed]",
      "text/plain": [
       "<Figure size 640x480 with 1 Axes>"
      ]
     },
     "metadata": {},
     "output_type": "display_data"
    }
   ],
   "source": [
    "from itertools import chain\n",
    "from collections import Counter\n",
    "\n",
    "sequences = train_data['Sequence']\n",
    "bp_counts  = Counter(chain.from_iterable(sequences))\n",
    "bp_df = pd.DataFrame.from_dict(bp_counts, orient='index', columns=['Count'])\n",
    "\n",
    "# Plot base pair frequencies\n",
    "ax = bp_df.sort_values('Count', ascending=False).plot(kind='bar', legend=None)\n",
    "ax.set_title('Base Pair Frequencies')\n",
    "ax.set_xlabel('Base Pair')\n",
    "ax.set_ylabel('Frequency')\n",
    "\n",
    "# Format y-axis labels as decimal notation\n",
    "ax.yaxis.set_major_formatter('{x:.0f}')\n",
    "plt.show()"
   ]
  },
  {
   "cell_type": "markdown",
   "id": "fZM3tpIfhuKt",
   "metadata": {
    "id": "fZM3tpIfhuKt"
   },
   "source": [
    "## Preprocess DNA sequences for training and test data\n",
    "\n",
    "basic one-hot encoding for the DNA sequences. Each nucleotide (A, G, C, T) will be represented by a binary vector."
   ]
  },
  {
   "cell_type": "code",
   "execution_count": 42,
   "id": "zbwy8_lnX3Ha",
   "metadata": {
    "colab": {
     "base_uri": "https://localhost:8080/",
     "height": 313
    },
    "id": "zbwy8_lnX3Ha",
    "outputId": "852cee7f-178a-4b1d-cf72-0634934e99f3"
   },
   "outputs": [
    {
     "data": {
      "text/html": [
       "<div>\n",
       "<style scoped>\n",
       "    .dataframe tbody tr th:only-of-type {\n",
       "        vertical-align: middle;\n",
       "    }\n",
       "\n",
       "    .dataframe tbody tr th {\n",
       "        vertical-align: top;\n",
       "    }\n",
       "\n",
       "    .dataframe thead th {\n",
       "        text-align: right;\n",
       "    }\n",
       "</style>\n",
       "<table border=\"1\" class=\"dataframe\">\n",
       "  <thead>\n",
       "    <tr style=\"text-align: right;\">\n",
       "      <th></th>\n",
       "      <th>ID</th>\n",
       "      <th>Sequence</th>\n",
       "      <th>Chromosome</th>\n",
       "      <th>Region</th>\n",
       "      <th>Target</th>\n",
       "      <th>Sequence_encoded</th>\n",
       "    </tr>\n",
       "  </thead>\n",
       "  <tbody>\n",
       "    <tr>\n",
       "      <th>0</th>\n",
       "      <td>ID_3uVXob</td>\n",
       "      <td>AAATCTTATTAATATATCTATATATAAATTTTTTAATATATTATAT...</td>\n",
       "      <td>Chromosome06</td>\n",
       "      <td>23466002-23467001</td>\n",
       "      <td>1</td>\n",
       "      <td>[[1, 0, 0, 0], [1, 0, 0, 0], [1, 0, 0, 0], [0,...</td>\n",
       "    </tr>\n",
       "    <tr>\n",
       "      <th>1</th>\n",
       "      <td>ID_ViisQV</td>\n",
       "      <td>GCGTCCTCTCACCAGCAGACAAGAATATAAAGATTGAACAACCAAA...</td>\n",
       "      <td>Chromosome16</td>\n",
       "      <td>27234572-27235571</td>\n",
       "      <td>0</td>\n",
       "      <td>[[0, 1, 0, 0], [0, 0, 1, 0], [0, 1, 0, 0], [0,...</td>\n",
       "    </tr>\n",
       "    <tr>\n",
       "      <th>2</th>\n",
       "      <td>ID_4HQWG5</td>\n",
       "      <td>TTCACCGAAAGCTTAGAGTAAGGAAAAAAAAAGGAACATTAAAATT...</td>\n",
       "      <td>Chromosome11</td>\n",
       "      <td>24316102-24317101</td>\n",
       "      <td>1</td>\n",
       "      <td>[[0, 0, 0, 1], [0, 0, 0, 1], [0, 0, 1, 0], [1,...</td>\n",
       "    </tr>\n",
       "    <tr>\n",
       "      <th>3</th>\n",
       "      <td>ID_E64KC4</td>\n",
       "      <td>AACCCTTATCAGAAAAGTCTTTATGGTATTCAACGGAGGCAAACAA...</td>\n",
       "      <td>Chromosome05</td>\n",
       "      <td>25321688-25322687</td>\n",
       "      <td>0</td>\n",
       "      <td>[[1, 0, 0, 0], [1, 0, 0, 0], [0, 0, 1, 0], [0,...</td>\n",
       "    </tr>\n",
       "    <tr>\n",
       "      <th>4</th>\n",
       "      <td>ID_3BPJGs</td>\n",
       "      <td>TTGTGAGGAATGAGATACACATACCCCTTTTAGATTATGAAATGTC...</td>\n",
       "      <td>Chromosome01</td>\n",
       "      <td>9570952-9571951</td>\n",
       "      <td>1</td>\n",
       "      <td>[[0, 0, 0, 1], [0, 0, 0, 1], [0, 1, 0, 0], [0,...</td>\n",
       "    </tr>\n",
       "  </tbody>\n",
       "</table>\n",
       "</div>"
      ],
      "text/plain": [
       "          ID                                           Sequence    Chromosome  \\\n",
       "0  ID_3uVXob  AAATCTTATTAATATATCTATATATAAATTTTTTAATATATTATAT...  Chromosome06   \n",
       "1  ID_ViisQV  GCGTCCTCTCACCAGCAGACAAGAATATAAAGATTGAACAACCAAA...  Chromosome16   \n",
       "2  ID_4HQWG5  TTCACCGAAAGCTTAGAGTAAGGAAAAAAAAAGGAACATTAAAATT...  Chromosome11   \n",
       "3  ID_E64KC4  AACCCTTATCAGAAAAGTCTTTATGGTATTCAACGGAGGCAAACAA...  Chromosome05   \n",
       "4  ID_3BPJGs  TTGTGAGGAATGAGATACACATACCCCTTTTAGATTATGAAATGTC...  Chromosome01   \n",
       "\n",
       "              Region  Target  \\\n",
       "0  23466002-23467001       1   \n",
       "1  27234572-27235571       0   \n",
       "2  24316102-24317101       1   \n",
       "3  25321688-25322687       0   \n",
       "4    9570952-9571951       1   \n",
       "\n",
       "                                    Sequence_encoded  \n",
       "0  [[1, 0, 0, 0], [1, 0, 0, 0], [1, 0, 0, 0], [0,...  \n",
       "1  [[0, 1, 0, 0], [0, 0, 1, 0], [0, 1, 0, 0], [0,...  \n",
       "2  [[0, 0, 0, 1], [0, 0, 0, 1], [0, 0, 1, 0], [1,...  \n",
       "3  [[1, 0, 0, 0], [1, 0, 0, 0], [0, 0, 1, 0], [0,...  \n",
       "4  [[0, 0, 0, 1], [0, 0, 0, 1], [0, 1, 0, 0], [0,...  "
      ]
     },
     "execution_count": 42,
     "metadata": {},
     "output_type": "execute_result"
    }
   ],
   "source": [
    "# Function for one-hot encoding DNA sequences\n",
    "def one_hot_encoding(sequence):\n",
    "    mapping = {'A': [1, 0, 0, 0], 'G': [0, 1, 0, 0], 'C': [0, 0, 1, 0], 'T': [0, 0, 0, 1]}\n",
    "    return np.array([mapping[base] for base in sequence])\n",
    "\n",
    "# Applying one-hot encoding\n",
    "train_data['Sequence_encoded'] = train_data['Sequence'].apply(one_hot_encoding)\n",
    "\n",
    "test_data['Sequence_encoded'] = test_data['Sequence'].apply(one_hot_encoding)\n",
    "\n",
    "train_data.head()\n"
   ]
  },
  {
   "cell_type": "markdown",
   "id": "pcQfcWkJYysZ",
   "metadata": {
    "id": "pcQfcWkJYysZ"
   },
   "source": [
    "### **Combining Features**\n",
    "Combining the DNA sequence data with the mean-pooled embeddings to create a unified feature set."
   ]
  },
  {
   "cell_type": "code",
   "execution_count": 43,
   "id": "rAkdfi9Dfr08",
   "metadata": {
    "colab": {
     "base_uri": "https://localhost:8080/"
    },
    "id": "rAkdfi9Dfr08",
    "outputId": "b158fc07-0b75-4213-c3a1-db884770cc17"
   },
   "outputs": [
    {
     "data": {
      "text/plain": [
       "array([[ 1.        ,  0.        ,  0.        , ..., -0.12821618,\n",
       "         0.13048221, -0.04030944],\n",
       "       [ 0.        ,  1.        ,  0.        , ..., -0.10230525,\n",
       "         0.11031647, -0.11093187],\n",
       "       [ 0.        ,  0.        ,  0.        , ..., -0.0814518 ,\n",
       "         0.10907719, -0.02265033],\n",
       "       ...,\n",
       "       [ 0.        ,  0.        ,  0.        , ..., -0.10773876,\n",
       "         0.12452018, -0.06895437],\n",
       "       [ 0.        ,  0.        ,  0.        , ..., -0.05926268,\n",
       "         0.12739813,  0.01560411],\n",
       "       [ 0.        ,  0.        ,  0.        , ..., -0.1202043 ,\n",
       "         0.12879521, -0.01449904]])"
      ]
     },
     "execution_count": 43,
     "metadata": {},
     "output_type": "execute_result"
    }
   ],
   "source": [
    "# Reshaping one-hot encoded sequences for\n",
    "# training data\n",
    "sequences_train = np.array(train_data['Sequence_encoded'].values.tolist())\n",
    "sequences_train = sequences_train.reshape(sequences_train.shape[0], -1)\n",
    "#test data\n",
    "sequences_test = np.array(test_data['Sequence_encoded'].values.tolist())\n",
    "sequences_test = sequences_test.reshape(sequences_test.shape[0], -1)\n",
    "\n",
    "# Combine features\n",
    "X_train = np.concatenate([sequences_train, train_embeddings], axis=1)\n",
    "\n",
    "X_test = np.concatenate([sequences_test, test_embeddings], axis=1)\n",
    "\n",
    "X_train\n"
   ]
  },
  {
   "cell_type": "code",
   "execution_count": null,
   "id": "lQbANGxlYGk2",
   "metadata": {
    "id": "lQbANGxlYGk2"
   },
   "outputs": [],
   "source": [
    "# # Combine features for training data\n",
    "# X_train = np.concatenate([train_data['Sequence_encoded'].values.tolist(), train_embeddings], axis=1)\n",
    "\n",
    "# # Combine features for test data\n",
    "# X_test = np.concatenate([test_data['Sequence_encoded'].values.tolist(), test_embeddings], axis=1)\n"
   ]
  },
  {
   "cell_type": "code",
   "execution_count": 44,
   "id": "M4qm-wAKZBUO",
   "metadata": {
    "id": "M4qm-wAKZBUO"
   },
   "outputs": [],
   "source": [
    "from sklearn.model_selection import train_test_split\n",
    "\n",
    "# Split the training data into training and validation sets\n",
    "X_train_split, X_val, y_train_split, y_val = train_test_split(X_train, train_data['Target'].values, test_size=0.2, random_state=42)\n"
   ]
  },
  {
   "cell_type": "markdown",
   "id": "im5jw-SiiTDJ",
   "metadata": {
    "id": "im5jw-SiiTDJ"
   },
   "source": [
    "## 4. Model Selection and Training"
   ]
  },
  {
   "cell_type": "markdown",
   "id": "-vBump5WiZZh",
   "metadata": {
    "id": "-vBump5WiZZh"
   },
   "source": [
    "### Choosing a model\n",
    "Given the nature of DNA sequences, we decided to use a basic feedforward neural network"
   ]
  },
  {
   "cell_type": "code",
   "execution_count": 46,
   "id": "V9HSAbw2i92T",
   "metadata": {
    "colab": {
     "base_uri": "https://localhost:8080/"
    },
    "id": "V9HSAbw2i92T",
    "outputId": "8d227ff5-55e1-43a5-d208-5bc7be0d01d6"
   },
   "outputs": [
    {
     "name": "stdout",
     "output_type": "stream",
     "text": [
      "Model: \"sequential_6\"\n",
      "_________________________________________________________________\n",
      " Layer (type)                Output Shape              Param #   \n",
      "=================================================================\n",
      " dense_14 (Dense)            (None, 256)               1408256   \n",
      "                                                                 \n",
      " dense_15 (Dense)            (None, 128)               32896     \n",
      "                                                                 \n",
      " dense_16 (Dense)            (None, 1)                 129       \n",
      "                                                                 \n",
      "=================================================================\n",
      "Total params: 1441281 (5.50 MB)\n",
      "Trainable params: 1441281 (5.50 MB)\n",
      "Non-trainable params: 0 (0.00 Byte)\n",
      "_________________________________________________________________\n"
     ]
    }
   ],
   "source": [
    "from tensorflow.keras.models import Sequential\n",
    "from tensorflow.keras.layers import Dense, Flatten\n",
    "from tensorflow.keras.optimizers import Adam\n",
    "\n",
    "# simple feedforward neural network\n",
    "model = Sequential([\n",
    "    Dense(256, activation='relu', input_shape=(X_train.shape[1],)),\n",
    "    Dense(128, activation='relu'),\n",
    "    Dense(1, activation='sigmoid')\n",
    "])\n",
    "\n",
    "\n",
    "# Compile the model\n",
    "custom_optimizer = Adam(learning_rate=0.00099)\n",
    "model.compile(optimizer=custom_optimizer, loss='binary_crossentropy', metrics=['accuracy'])\n",
    "\n",
    "model.summary()\n",
    "\n"
   ]
  },
  {
   "cell_type": "code",
   "execution_count": 47,
   "id": "w9TghRhz3zlp",
   "metadata": {
    "colab": {
     "base_uri": "https://localhost:8080/"
    },
    "id": "w9TghRhz3zlp",
    "outputId": "2b15ae7a-1826-4315-9ac0-67a27d282c7c"
   },
   "outputs": [
    {
     "name": "stdout",
     "output_type": "stream",
     "text": [
      "Epoch 1/25\n",
      "56/56 [==============================] - 15s 134ms/step - loss: 0.6573 - accuracy: 0.6113 - val_loss: 0.5740 - val_accuracy: 0.6900\n",
      "Epoch 2/25\n",
      "56/56 [==============================] - 9s 105ms/step - loss: 0.5120 - accuracy: 0.7405 - val_loss: 0.5880 - val_accuracy: 0.6911\n",
      "Epoch 3/25\n",
      "56/56 [==============================] - 10s 109ms/step - loss: 0.4646 - accuracy: 0.7747 - val_loss: 0.6349 - val_accuracy: 0.6824\n",
      "Epoch 4/25\n",
      "56/56 [==============================] - 10s 109ms/step - loss: 0.4404 - accuracy: 0.7923 - val_loss: 0.7978 - val_accuracy: 0.6427\n",
      "Epoch 5/25\n",
      "56/56 [==============================] - 9s 100ms/step - loss: 0.4440 - accuracy: 0.7833 - val_loss: 0.6524 - val_accuracy: 0.6737\n",
      "Epoch 6/25\n",
      "56/56 [==============================] - 12s 135ms/step - loss: 0.4035 - accuracy: 0.8137 - val_loss: 0.6960 - val_accuracy: 0.6771\n",
      "Epoch 7/25\n",
      "56/56 [==============================] - 10s 113ms/step - loss: 0.3864 - accuracy: 0.8227 - val_loss: 0.7230 - val_accuracy: 0.6715\n",
      "Epoch 8/25\n",
      "56/56 [==============================] - 10s 115ms/step - loss: 0.4033 - accuracy: 0.8112 - val_loss: 0.6934 - val_accuracy: 0.6302\n",
      "Epoch 9/25\n",
      "56/56 [==============================] - 10s 114ms/step - loss: 0.3930 - accuracy: 0.8152 - val_loss: 0.7453 - val_accuracy: 0.6185\n",
      "Epoch 10/25\n",
      "56/56 [==============================] - 12s 135ms/step - loss: 0.4305 - accuracy: 0.7856 - val_loss: 0.6163 - val_accuracy: 0.6635\n",
      "Epoch 11/25\n",
      "56/56 [==============================] - 9s 97ms/step - loss: 0.3924 - accuracy: 0.8194 - val_loss: 0.6916 - val_accuracy: 0.6510\n",
      "Epoch 12/25\n",
      "56/56 [==============================] - 12s 141ms/step - loss: 0.3938 - accuracy: 0.8111 - val_loss: 0.6208 - val_accuracy: 0.6677\n",
      "Epoch 13/25\n",
      "56/56 [==============================] - 10s 110ms/step - loss: 0.4095 - accuracy: 0.7946 - val_loss: 0.7178 - val_accuracy: 0.6355\n",
      "Epoch 14/25\n",
      "56/56 [==============================] - 10s 113ms/step - loss: 0.4240 - accuracy: 0.7882 - val_loss: 0.6572 - val_accuracy: 0.6730\n",
      "Epoch 15/25\n",
      "56/56 [==============================] - 11s 132ms/step - loss: 0.3671 - accuracy: 0.8245 - val_loss: 0.7509 - val_accuracy: 0.6597\n",
      "Epoch 16/25\n",
      "56/56 [==============================] - 10s 108ms/step - loss: 0.3750 - accuracy: 0.8201 - val_loss: 0.7302 - val_accuracy: 0.6718\n",
      "Epoch 17/25\n",
      "56/56 [==============================] - 11s 127ms/step - loss: 0.3519 - accuracy: 0.8371 - val_loss: 0.7396 - val_accuracy: 0.6737\n",
      "Epoch 18/25\n",
      "56/56 [==============================] - 10s 107ms/step - loss: 0.3601 - accuracy: 0.8231 - val_loss: 0.6524 - val_accuracy: 0.6688\n",
      "Epoch 19/25\n",
      "56/56 [==============================] - 11s 121ms/step - loss: 0.3682 - accuracy: 0.8250 - val_loss: 0.7662 - val_accuracy: 0.6737\n",
      "Epoch 20/25\n",
      "56/56 [==============================] - 10s 115ms/step - loss: 0.3630 - accuracy: 0.8240 - val_loss: 0.7443 - val_accuracy: 0.6601\n",
      "Epoch 21/25\n",
      "56/56 [==============================] - 10s 124ms/step - loss: 0.3657 - accuracy: 0.8172 - val_loss: 0.8163 - val_accuracy: 0.6647\n",
      "Epoch 22/25\n",
      "56/56 [==============================] - 10s 105ms/step - loss: 0.3740 - accuracy: 0.8255 - val_loss: 0.7962 - val_accuracy: 0.6518\n",
      "Epoch 23/25\n",
      "56/56 [==============================] - 10s 107ms/step - loss: 0.4042 - accuracy: 0.7934 - val_loss: 0.8550 - val_accuracy: 0.6363\n",
      "Epoch 24/25\n",
      "56/56 [==============================] - 9s 104ms/step - loss: 0.4272 - accuracy: 0.7918 - val_loss: 0.6563 - val_accuracy: 0.6514\n",
      "Epoch 25/25\n",
      "56/56 [==============================] - 9s 103ms/step - loss: 0.3281 - accuracy: 0.8491 - val_loss: 0.6808 - val_accuracy: 0.6756\n"
     ]
    }
   ],
   "source": [
    "import tensorflow as tf\n",
    "\n",
    "# Converting NumPy arrays to TensorFlow Datasets\n",
    "train_dataset = tf.data.Dataset.from_tensor_slices((X_train_split, y_train_split)).batch(190)\n",
    "val_dataset = tf.data.Dataset.from_tensor_slices((X_val, y_val)).batch(10)\n",
    "\n",
    "# Training the model using TensorFlow Datasets\n",
    "history = model.fit(train_dataset, epochs=25, validation_data=val_dataset)\n"
   ]
  },
  {
   "cell_type": "code",
   "execution_count": null,
   "id": "gtDcwoYvjLqO",
   "metadata": {
    "id": "gtDcwoYvjLqO"
   },
   "outputs": [],
   "source": [
    "#Train the model\n",
    "# history = model.fit(X_train_split, y_train_split, epochs=10, batch_size=32, validation_data=(X_val, y_val))\n",
    "#train_dataset\n",
    "#val_dataset"
   ]
  },
  {
   "cell_type": "code",
   "execution_count": 48,
   "id": "-99szvhzjYZa",
   "metadata": {
    "colab": {
     "base_uri": "https://localhost:8080/",
     "height": 449
    },
    "id": "-99szvhzjYZa",
    "outputId": "da22c4cb-d2c9-4c42-b9f4-641ecc7015c1"
   },
   "outputs": [
    {
     "name": "stdout",
     "output_type": "stream",
     "text": [
      "265/265 [==============================] - 1s 5ms/step - loss: 0.6808 - accuracy: 0.6756\n",
      "Validation Loss: 0.680750846862793, Validation Accuracy: 0.6756143569946289\n"
     ]
    },
    {
     "data": {
      "image/png": "[encoded data removed]",
      "text/plain": [
       "<Figure size 640x480 with 1 Axes>"
      ]
     },
     "metadata": {},
     "output_type": "display_data"
    }
   ],
   "source": [
    "#Evaluating Performance\n",
    "import matplotlib.pyplot as plt\n",
    "\n",
    "val_loss, val_accuracy = model.evaluate(val_dataset)\n",
    "print(f'Validation Loss: {val_loss}, Validation Accuracy: {val_accuracy}')\n",
    "\n",
    "# Plot training history\n",
    "plt.plot(history.history['accuracy'], label='Training Accuracy')\n",
    "plt.plot(history.history['val_accuracy'], label='Validation Accuracy')\n",
    "plt.xlabel('Epoch')\n",
    "plt.ylabel('Accuracy')\n",
    "plt.legend()\n",
    "plt.show()\n"
   ]
  },
  {
   "cell_type": "markdown",
   "id": "kN22Udbn4S5P",
   "metadata": {
    "id": "kN22Udbn4S5P"
   },
   "source": [
    "## 5. Model Tuning and Optimization"
   ]
  },
  {
   "cell_type": "markdown",
   "id": "az0leX5P4fRu",
   "metadata": {
    "id": "az0leX5P4fRu"
   },
   "source": [
    "### Tunning Hyperparameters\n",
    "Playing with hyperparameters to optimize the model. We will use the following parameters: learning rate, batch size, the number of layers, and the number of neurons in each layer."
   ]
  },
  {
   "cell_type": "code",
   "execution_count": 17,
   "id": "_fHFJrqT4avP",
   "metadata": {
    "id": "_fHFJrqT4avP"
   },
   "outputs": [],
   "source": [
    "# from tensorflow.keras.optimizers import Adam\n",
    "\n",
    "# # Example of hyperparameter tuning\n",
    "# model = Sequential([\n",
    "#     Dense(256, activation='relu', input_shape=(X_train.shape[1],)),\n",
    "#     Dense(128, activation='relu'),\n",
    "#     Dense(1, activation='sigmoid')\n",
    "# ])\n",
    "\n",
    "# # Adjust the learning rate\n",
    "# custom_optimizer = Adam(learning_rate=0.001)\n",
    "# model.compile(optimizer=custom_optimizer, loss='binary_crossentropy', metrics=['accuracy'])\n"
   ]
  },
  {
   "cell_type": "markdown",
   "id": "aeHPyTB25RIe",
   "metadata": {
    "id": "aeHPyTB25RIe"
   },
   "source": [
    "Addressing Overfitting bg dropout and regularization"
   ]
  },
  {
   "cell_type": "code",
   "execution_count": 18,
   "id": "6RAdpW4q5eNI",
   "metadata": {
    "id": "6RAdpW4q5eNI"
   },
   "outputs": [],
   "source": [
    "# from tensorflow.keras.layers import Dropout\n",
    "\n",
    "# model = Sequential([\n",
    "#     Dense(256, activation='relu', input_shape=(X_train.shape[1],)),\n",
    "#     Dropout(0.5),\n",
    "#     Dense(128, activation='relu'),\n",
    "#     Dropout(0.3),\n",
    "#     Dense(1, activation='sigmoid')\n",
    "# ])\n"
   ]
  },
  {
   "cell_type": "markdown",
   "id": "_b-2pgAG5rGE",
   "metadata": {
    "id": "_b-2pgAG5rGE"
   },
   "source": [
    "Re-evaluating the model performance"
   ]
  },
  {
   "cell_type": "code",
   "execution_count": 49,
   "id": "Uf8vEdRb6tsI",
   "metadata": {
    "colab": {
     "base_uri": "https://localhost:8080/"
    },
    "id": "Uf8vEdRb6tsI",
    "outputId": "f45d3140-1721-4026-a43a-c2cc28e753b2"
   },
   "outputs": [
    {
     "name": "stdout",
     "output_type": "stream",
     "text": [
      "265/265 [==============================] - 6s 4ms/step - loss: 0.6808 - accuracy: 0.6756\n",
      "Validation Loss: 0.680750846862793, Validation Accuracy: 0.6756143569946289\n"
     ]
    }
   ],
   "source": [
    "# Compile the model with the same configuration used during training\n",
    "model.compile(optimizer='adam', loss='binary_crossentropy', metrics=['accuracy'])\n",
    "\n",
    "# Evaluate performance on the validation set\n",
    "val_loss, val_accuracy = model.evaluate(val_dataset)\n",
    "print(f'Validation Loss: {val_loss}, Validation Accuracy: {val_accuracy}')\n"
   ]
  },
  {
   "cell_type": "markdown",
   "id": "mGSi2SRc7Di8",
   "metadata": {
    "id": "mGSi2SRc7Di8"
   },
   "source": [
    "## 6. Generating Predictions for the test data"
   ]
  },
  {
   "cell_type": "markdown",
   "id": "kVoaic3b7PPI",
   "metadata": {
    "id": "kVoaic3b7PPI"
   },
   "source": [
    "Preprocessing the test data"
   ]
  },
  {
   "cell_type": "code",
   "execution_count": 30,
   "id": "WITz7sxH57MA",
   "metadata": {
    "id": "WITz7sxH57MA"
   },
   "outputs": [],
   "source": [
    "# # Preprocessing the test data with the same steps used for training data\n",
    "\n",
    "# test_sequences = np.array(test_data['Sequence_encoded'].values.tolist())\n",
    "# test_sequences = test_sequences.reshape(test_sequences.shape[0], -1)\n",
    "\n",
    "# X_test = np.concatenate([test_sequences, test_embeddings], axis=1)\n"
   ]
  },
  {
   "cell_type": "markdown",
   "id": "HtYcfV9c7h0c",
   "metadata": {
    "id": "HtYcfV9c7h0c"
   },
   "source": [
    "Making Predictions on the test data"
   ]
  },
  {
   "cell_type": "code",
   "execution_count": 31,
   "id": "DkDh1hny7lJs",
   "metadata": {
    "colab": {
     "base_uri": "https://localhost:8080/"
    },
    "id": "DkDh1hny7lJs",
    "outputId": "eca8b39e-23eb-44c8-b143-131f01db3ae2"
   },
   "outputs": [
    {
     "name": "stdout",
     "output_type": "stream",
     "text": [
      "178/178 [==============================] - 17s 19ms/step\n"
     ]
    }
   ],
   "source": [
    "# # Make predictions on the test set\n",
    "# test_predictions = model.predict(X_test)"
   ]
  },
  {
   "cell_type": "markdown",
   "id": "mqkD02UjBKJm",
   "metadata": {
    "id": "mqkD02UjBKJm"
   },
   "source": [
    "## TRYING DIFFERENT HYPERPARAMETERS AND MODELS"
   ]
  },
  {
   "cell_type": "markdown",
   "id": "8sD1-Hy2BVIU",
   "metadata": {
    "id": "8sD1-Hy2BVIU"
   },
   "source": [
    "LSTM LAYERS AND NEURONS"
   ]
  },
  {
   "cell_type": "code",
   "execution_count": 32,
   "id": "7d8qiLEkBcVw",
   "metadata": {
    "id": "7d8qiLEkBcVw"
   },
   "outputs": [],
   "source": [
    "# from tensorflow.keras.layers import LSTM\n",
    "\n",
    "# # Assuming each sequence has length 1000\n",
    "# sequence_length = 1000\n",
    "\n",
    "# # Reshape the sequences for LSTM input\n",
    "# sequences_train_reshaped = sequences_train.reshape((sequences_train.shape[0], sequence_length, -1))\n",
    "# sequences_test_reshaped = sequences_test.reshape((sequences_test.shape[0], sequence_length, -1))\n",
    "\n",
    "# # Define the model\n",
    "# model = Sequential([\n",
    "#     LSTM(128, activation='relu', input_shape=(sequence_length, sequences_train_reshaped.shape[2])),\n",
    "#     Dense(1, activation='sigmoid')\n",
    "# ])\n",
    "\n",
    "# # Compile the model\n",
    "# model.compile(optimizer='adam', loss='binary_crossentropy', metrics=['accuracy'])\n"
   ]
  },
  {
   "cell_type": "code",
   "execution_count": 33,
   "id": "FHrVJnYKCrLU",
   "metadata": {
    "id": "FHrVJnYKCrLU"
   },
   "outputs": [],
   "source": [
    "# #Learning Rate Annealing\n",
    "# from tensorflow.keras.optimizers import Adam\n",
    "\n",
    "# custom_optimizer = Adam(learning_rate=0.00001)\n",
    "# model.compile(optimizer=custom_optimizer, loss='binary_crossentropy', metrics=['accuracy'])\n"
   ]
  },
  {
   "cell_type": "code",
   "execution_count": 34,
   "id": "t7W9cLCHC1WQ",
   "metadata": {
    "id": "t7W9cLCHC1WQ"
   },
   "outputs": [],
   "source": [
    "# from tensorflow.keras.layers import Dropout\n",
    "\n",
    "# model = Sequential([\n",
    "#     Dense(256, activation='relu', input_shape=(X_train.shape[1],)),\n",
    "#     Dropout(0.5),\n",
    "#     Dense(128, activation='relu'),\n",
    "#     Dropout(0.3),\n",
    "#     Dense(1, activation='sigmoid')\n",
    "# ])\n"
   ]
  },
  {
   "cell_type": "code",
   "execution_count": 50,
   "id": "YElloOM5C6Nq",
   "metadata": {
    "colab": {
     "base_uri": "https://localhost:8080/"
    },
    "id": "YElloOM5C6Nq",
    "outputId": "32c5ce38-d564-45a0-d013-c772d6e54873"
   },
   "outputs": [
    {
     "name": "stdout",
     "output_type": "stream",
     "text": [
      "265/265 [==============================] - 6s 5ms/step\n",
      "              precision    recall  f1-score   support\n",
      "\n",
      "           0       0.73      0.59      0.65      1373\n",
      "           1       0.63      0.77      0.70      1272\n",
      "\n",
      "    accuracy                           0.68      2645\n",
      "   macro avg       0.68      0.68      0.67      2645\n",
      "weighted avg       0.69      0.68      0.67      2645\n",
      "\n"
     ]
    }
   ],
   "source": [
    "from sklearn.metrics import classification_report\n",
    "\n",
    "# Get predictions on validation set\n",
    "val_predictions = model.predict(val_dataset)\n",
    "\n",
    "# Convert predictions to binary (0 or 1) based on a threshold (e.g., 0.5)\n",
    "val_binary_predictions = (val_predictions > 0.5).astype(int)\n",
    "\n",
    "# Evaluate additional metrics\n",
    "print(classification_report(y_val, val_binary_predictions))\n"
   ]
  },
  {
   "cell_type": "markdown",
   "id": "u98Usdk17rHp",
   "metadata": {
    "id": "u98Usdk17rHp"
   },
   "source": [
    "## 7. Creating Submission File"
   ]
  },
  {
   "cell_type": "code",
   "execution_count": 32,
   "id": "xiTXQMz87wZT",
   "metadata": {
    "id": "xiTXQMz87wZT"
   },
   "outputs": [],
   "source": [
    "#Formating Predictions\n",
    "# Converting predictions to binary (0 or 1)\n",
    "threshold = 0.5\n",
    "binary_predictions = (test_predictions > threshold).astype(int)\n"
   ]
  },
  {
   "cell_type": "code",
   "execution_count": 33,
   "id": "xfS-PjMm769L",
   "metadata": {
    "id": "xfS-PjMm769L"
   },
   "outputs": [],
   "source": [
    "#Generating submission file\n",
    "# Creating a DataFrame for submission\n",
    "submission_df = pd.DataFrame({'ID': test_data['ID'], 'Target': binary_predictions.flatten()})\n",
    "\n",
    "submission_df.to_csv('submission.csv', index=False)\n"
   ]
  },
  {
   "cell_type": "markdown",
   "id": "LQj_1hGlAY6a",
   "metadata": {
    "id": "LQj_1hGlAY6a"
   },
   "source": [
    "## Connecting To Streamlit"
   ]
  },
  {
   "cell_type": "code",
   "execution_count": 51,
   "id": "wK4CEwKa271h",
   "metadata": {
    "colab": {
     "base_uri": "https://localhost:8080/"
    },
    "id": "wK4CEwKa271h",
    "outputId": "54709800-604d-40e3-e766-23701139acd5"
   },
   "outputs": [],
   "source": [
    "model.save('trained_model1.keras')"
   ]
  },
  {
   "cell_type": "markdown",
   "id": "SVlKMzHUKnI-",
   "metadata": {
    "id": "SVlKMzHUKnI-"
   },
   "source": [
    "## -- Using Instadeep AGRONT Model"
   ]
  },
  {
   "cell_type": "markdown",
   "id": "YoWlDR_eK5YR",
   "metadata": {
    "id": "YoWlDR_eK5YR"
   },
   "source": [
    "Combining Features with Instadeep"
   ]
  },
  {
   "cell_type": "code",
   "execution_count": null,
   "id": "4O7b-bm978kl",
   "metadata": {
    "id": "4O7b-bm978kl"
   },
   "outputs": [],
   "source": [
    "train_agront_embeddings = np.load(\"/content/drive/MyDrive/Cassava Project-20231209T132333Z-001/Cassava Project/Train_embeddings.npy\")\n",
    "\n",
    "test_agront_embeddings = np.load(\"/content/drive/MyDrive/Cassava Project-20231209T132333Z-001/Cassava Project/Test_embeddings.npy\")\n",
    "\n",
    "X_train_combined = np.concatenate([sequences_train, train_agront_embeddings], axis=1)\n",
    "\n",
    "# Combining features for test data\n",
    "X_test_combined = np.concatenate([sequences_test, test_agront_embeddings], axis=1)\n"
   ]
  },
  {
   "cell_type": "code",
   "execution_count": null,
   "id": "qM6LSuYbNuTR",
   "metadata": {
    "id": "qM6LSuYbNuTR"
   },
   "outputs": [],
   "source": [
    "from tensorflow.keras.preprocessing.image import img_to_array, array_to_img\n",
    "from tensorflow.image import resize\n",
    "\n",
    "#\n",
    "# train_agront_embeddings_resized = train_agront_embeddings.reshape(-1, 30, 50, 1)\n",
    "# test_agront_embeddings_resized = test_agront_embeddings.reshape(-1, 30, 50, 1)\n",
    "\n",
    "# # Resizing to meet the minimum size requirement\n",
    "# target_size = (32, 32)\n",
    "# train_agront_embeddings_resized = np.array([img_to_array(resize(array_to_img(x), target_size)) for x in train_agront_embeddings_resized])\n",
    "# test_agront_embeddings_resized = np.array([img_to_array(resize(array_to_img(x), target_size)) for x in test_agront_embeddings_resized])\n",
    "\n",
    "# # Load pre-trained AgroNT model\n",
    "# agront_model = DenseNet121(weights=None, include_top=False, input_shape=(32, 32, 1), pooling='avg')\n"
   ]
  },
  {
   "cell_type": "markdown",
   "id": "3lfARcNNLgsr",
   "metadata": {
    "id": "3lfARcNNLgsr"
   },
   "source": [
    "### Fine-tuning a pre-trained model on AgroNT embeddings"
   ]
  },
  {
   "cell_type": "code",
   "execution_count": null,
   "id": "A_uZWtZ8LqFg",
   "metadata": {
    "id": "A_uZWtZ8LqFg"
   },
   "outputs": [],
   "source": [
    "from tensorflow.keras.applications import DenseNet121\n",
    "from tensorflow.keras import layers, Model\n",
    "\n",
    "# Assuming mean-pooled embeddings have a shape of (1500,)\n",
    "train_agront_embeddings_reshaped = train_agront_embeddings.reshape(-1, 30, 50, 1)\n",
    "test_agront_embeddings_reshaped = test_agront_embeddings.reshape(-1, 30, 50, 1)\n",
    "\n",
    "# # Load pre-trained AgroNT model\n",
    "# agront_model = DenseNet121(weights=None, include_top=False, input_shape=(30, 50, 1), pooling='avg')\n",
    "\n",
    "\n",
    "# # Add additional layers for your specific task\n",
    "# x = agront_model.output\n",
    "# x = layers.Dense(256, activation='relu')(x)\n",
    "# x = layers.Dropout(0.5)(x)\n",
    "# output_layer = layers.Dense(1, activation='sigmoid')(x)\n",
    "\n",
    "# # Create the combined model\n",
    "# combined_model = Model(inputs=agront_model.input, outputs=output_layer)\n",
    "\n",
    "# # Compile the combined model\n",
    "# combined_model.compile(optimizer='adam', loss='binary_crossentropy', metrics=['accuracy'])\n"
   ]
  }
 ],
 "metadata": {
  "colab": {
   "provenance": []
  },
  "kernelspec": {
   "display_name": "Python 3 (ipykernel)",
   "language": "python",
   "name": "python3"
  },
  "language_info": {
   "codemirror_mode": {
    "name": "ipython",
    "version": 3
   },
   "file_extension": ".py",
   "mimetype": "text/x-python",
   "name": "python",
   "nbconvert_exporter": "python",
   "pygments_lexer": "ipython3",
   "version": "3.9.2rc1"
  }
 },
 "nbformat": 4,
 "nbformat_minor": 5
}
